{
 "cells": [
  {
   "cell_type": "code",
   "execution_count": 1,
   "metadata": {},
   "outputs": [],
   "source": [
    "import os"
   ]
  },
  {
   "cell_type": "code",
   "execution_count": 2,
   "metadata": {},
   "outputs": [
    {
     "data": {
      "text/plain": [
       "'f:\\\\Files\\\\DS&ML\\\\FraudGuard\\\\notebooks'"
      ]
     },
     "execution_count": 2,
     "metadata": {},
     "output_type": "execute_result"
    }
   ],
   "source": [
    "%pwd"
   ]
  },
  {
   "cell_type": "code",
   "execution_count": 3,
   "metadata": {},
   "outputs": [],
   "source": [
    "os.chdir('../')"
   ]
  },
  {
   "cell_type": "code",
   "execution_count": 4,
   "metadata": {},
   "outputs": [
    {
     "data": {
      "text/plain": [
       "'f:\\\\Files\\\\DS&ML\\\\FraudGuard'"
      ]
     },
     "execution_count": 4,
     "metadata": {},
     "output_type": "execute_result"
    }
   ],
   "source": [
    "%pwd"
   ]
  },
  {
   "cell_type": "code",
   "execution_count": 5,
   "metadata": {},
   "outputs": [],
   "source": [
    "from dataclasses import dataclass\n",
    "from pathlib import Path"
   ]
  },
  {
   "cell_type": "code",
   "execution_count": 6,
   "metadata": {},
   "outputs": [],
   "source": [
    "@dataclass(frozen=True)\n",
    "class DataIngestionConfig:\n",
    "    root_dir: Path\n",
    "    bucket: str\n",
    "    region: str\n",
    "    data_path: str\n",
    "    download_data: Path"
   ]
  },
  {
   "cell_type": "code",
   "execution_count": 7,
   "metadata": {},
   "outputs": [],
   "source": [
    "from FraudGuard.utils.helpers import *\n",
    "from FraudGuard.constants import *"
   ]
  },
  {
   "cell_type": "code",
   "execution_count": 8,
   "metadata": {},
   "outputs": [],
   "source": [
    "class ConfigurationManager:\n",
    "    def __init__(\n",
    "        self,\n",
    "        config_filepath = CONFIG_PATH,\n",
    "        params_filepath = PARAMS_PATH,\n",
    "        schema_filepath = SCHEMA_PATH):\n",
    "\n",
    "        self.config = read_yaml(config_filepath)\n",
    "        self.params = read_yaml(params_filepath)\n",
    "        self.schema = read_yaml(schema_filepath)\n",
    "\n",
    "        create_directories([self.config.artifacts_root])\n",
    "\n",
    "\n",
    "    \n",
    "    def get_data_ingestion_config(self) -> DataIngestionConfig:\n",
    "        config = self.config.data_ingestion\n",
    "\n",
    "        create_directories([config.root_dir])\n",
    "\n",
    "        data_ingestion_config = DataIngestionConfig(\n",
    "            root_dir=Path(config.root_dir),\n",
    "            bucket=config.bucket,\n",
    "            region=config.region,\n",
    "            data_path=config.data_path,\n",
    "            download_data=Path(config.download_data)\n",
    "        )\n",
    "\n",
    "        return data_ingestion_config"
   ]
  },
  {
   "cell_type": "code",
   "execution_count": 9,
   "metadata": {},
   "outputs": [],
   "source": [
    "import urllib.request as request\n",
    "import zipfile\n",
    "import gdown\n",
    "from FraudGuard import logger"
   ]
  },
  {
   "cell_type": "code",
   "execution_count": 10,
   "metadata": {},
   "outputs": [],
   "source": [
    "class DataIngestion:\n",
    "    def __init__(self, config: DataIngestionConfig):\n",
    "        self.config = config\n",
    "\n",
    "    def download_file(self):\n",
    "        # Use download_data as the local path for the CSV file\n",
    "        local_csv_path = self.config.download_data\n",
    "        if not os.path.exists(local_csv_path):\n",
    "            success = download_from_s3(\n",
    "                bucket=self.config.bucket,\n",
    "                s3_path=self.config.data_path,\n",
    "                local_path=local_csv_path,\n",
    "                aws_region=self.config.region\n",
    "            )\n",
    "            if success:\n",
    "                logger.info(f\"Downloaded file: {local_csv_path}\")\n",
    "            else:\n",
    "                raise Exception(f\"Failed to download {self.config.data_path} from S3\")\n",
    "        else:\n",
    "            logger.info(f\"File already exists: {local_csv_path} ({get_size(local_csv_path)})\")"
   ]
  },
  {
   "cell_type": "code",
   "execution_count": 11,
   "metadata": {},
   "outputs": [
    {
     "name": "stdout",
     "output_type": "stream",
     "text": [
      "[2025-06-17 12:34:28,715: INFO: helpers: yaml file: config_file\\config.yaml loaded successfully]\n",
      "[2025-06-17 12:34:28,727: INFO: helpers: yaml file: config_file\\params.yaml loaded successfully]\n",
      "[2025-06-17 12:34:28,734: INFO: helpers: yaml file: config_file\\schema.yaml loaded successfully]\n",
      "[2025-06-17 12:34:28,734: INFO: helpers: created directory at: artifacts]\n",
      "[2025-06-17 12:34:28,734: INFO: helpers: created directory at: artifacts/data_ingestion]\n",
      "[2025-06-17 12:34:28,762: INFO: credentials: Found credentials in shared credentials file: ~/.aws/credentials]\n",
      "[2025-06-17 12:34:33,128: INFO: helpers: Downloaded s3://fraudguard/Fraud-data.csv to artifacts\\data_ingestion\\Fraud-data.csv]\n",
      "[2025-06-17 12:34:33,134: INFO: 3942098000: Downloaded file: artifacts\\data_ingestion\\Fraud-data.csv]\n"
     ]
    }
   ],
   "source": [
    "try:\n",
    "    config = ConfigurationManager()\n",
    "    data_ingestion_config = config.get_data_ingestion_config()\n",
    "    data_ingestion = DataIngestion(config=data_ingestion_config)\n",
    "    data_ingestion.download_file()\n",
    "    \n",
    "except Exception as e:\n",
    "    logger.error(f\"Error: {e}\")"
   ]
  }
 ],
 "metadata": {
  "kernelspec": {
   "display_name": "FraudGraud",
   "language": "python",
   "name": "python3"
  },
  "language_info": {
   "codemirror_mode": {
    "name": "ipython",
    "version": 3
   },
   "file_extension": ".py",
   "mimetype": "text/x-python",
   "name": "python",
   "nbconvert_exporter": "python",
   "pygments_lexer": "ipython3",
   "version": "3.10.18"
  }
 },
 "nbformat": 4,
 "nbformat_minor": 2
}
